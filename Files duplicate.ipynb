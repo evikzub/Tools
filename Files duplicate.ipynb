{
 "cells": [
  {
   "cell_type": "markdown",
   "metadata": {},
   "source": [
    "# Files duplicate analysis\n",
    "\n",
    "There are several cases when file duplicates should be identified.\n",
    "For instance, I need to know if I already have e-book in my library.\n",
    "Let's use Pandas to find inconsistency. "
   ]
  },
  {
   "cell_type": "code",
   "execution_count": 2,
   "metadata": {},
   "outputs": [],
   "source": [
    "from pathlib import Path\n",
    "import pandas as pd"
   ]
  },
  {
   "cell_type": "code",
   "execution_count": 53,
   "metadata": {},
   "outputs": [],
   "source": [
    "main_path = r\"C:\\Users\\Admin\\Downloads\"\n",
    "compare_path = 'D:\\Books'\n",
    "duplicates_path = r\"C:\\Users\\Admin\\Downloads\\_duplicates\""
   ]
  },
  {
   "cell_type": "code",
   "execution_count": 47,
   "metadata": {},
   "outputs": [],
   "source": [
    "def get_files_in_folder(folder: Path | str):\n",
    "    if type(folder) == str:\n",
    "        folder = Path(folder)\n",
    "    return [f for f in folder.iterdir() if f.is_file()]\n",
    "\n",
    "def get_files_tree(path: Path | str):\n",
    "    if type(path) == str:\n",
    "        path = Path(path)\n",
    "    \n",
    "    files_list = get_files_in_folder(path)\n",
    "    for folder in path.iterdir():\n",
    "        if folder.is_dir():\n",
    "            # print(path, '\\\\', folder.name)\n",
    "            # print(get_files_in_folder(folder))\n",
    "            files_list.extend(get_files_in_folder(folder))\n",
    "            get_files_tree(folder)\n",
    "    return files_list\n"
   ]
  },
  {
   "cell_type": "code",
   "execution_count": 48,
   "metadata": {},
   "outputs": [],
   "source": [
    "import re\n",
    "def clear_name(name: str):\n",
    "    value = re.sub(\"[!#]\", \"\", name)\n",
    "    return re.sub('[+_-]', ' ', value).lstrip()\n",
    "\n",
    "# clear_name('+_test_data_#.pdf')"
   ]
  },
  {
   "cell_type": "code",
   "execution_count": 49,
   "metadata": {},
   "outputs": [],
   "source": [
    "titles = ['File', 'Original', 'Path']\n",
    "df_main = pd.DataFrame(columns = titles)\n",
    "\n",
    "# files = get_files_in_folder(main_path)\n",
    "files = get_files_tree(main_path)\n",
    "for file in files:\n",
    "    df_main.loc[len(df_main)] = [clear_name(file.name), file.name, file.absolute()]\n",
    "\n",
    "df_compare = pd.DataFrame(columns = titles)\n",
    "files = get_files_tree(compare_path)\n",
    "for file in files:\n",
    "    df_compare.loc[len(df_compare)] = [clear_name(file.name), file.name, file.absolute()]\n"
   ]
  },
  {
   "cell_type": "code",
   "execution_count": 52,
   "metadata": {},
   "outputs": [],
   "source": [
    "df = df_main.merge(df_compare, how='inner', on='File', suffixes=('_main', '_compare'))\n",
    "df_merged = df[df[\"Path_main\"] != df[\"Path_compare\"]]\n",
    "# df_merged"
   ]
  },
  {
   "cell_type": "code",
   "execution_count": 51,
   "metadata": {},
   "outputs": [
    {
     "name": "stdout",
     "output_type": "stream",
     "text": [
      "Into folder \"C:\\Users\\Admin\\Downloads\\_duplicates\" moved 1 file(s)\n"
     ]
    }
   ],
   "source": [
    "if not Path(duplicates_path).exists():\n",
    "    Path(duplicates_path).mkdir()\n",
    "\n",
    "moved = 0\n",
    "for item in range(0, len(df_merged)):\n",
    "    location: Path = df_merged.loc[item]['Path_main']\n",
    "    destination = Path(duplicates_path + '\\\\' + location.name)\n",
    "    location.rename(destination)\n",
    "    moved += 1\n",
    "\n",
    "print(f'Into folder \"{duplicates_path}\" moved {moved} file(s)') \n",
    "  "
   ]
  }
 ],
 "metadata": {
  "kernelspec": {
   "display_name": "Python 3",
   "language": "python",
   "name": "python3"
  },
  "language_info": {
   "codemirror_mode": {
    "name": "ipython",
    "version": 3
   },
   "file_extension": ".py",
   "mimetype": "text/x-python",
   "name": "python",
   "nbconvert_exporter": "python",
   "pygments_lexer": "ipython3",
   "version": "3.10.11"
  }
 },
 "nbformat": 4,
 "nbformat_minor": 2
}
