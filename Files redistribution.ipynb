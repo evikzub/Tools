{
 "cells": [
  {
   "cell_type": "markdown",
   "id": "13d0c965",
   "metadata": {},
   "source": [
    "# Files re-distribution\n",
    "\n",
    "The goal is to re-distribute files within the folder by extension.\n",
    "For instance, we may have a lot of files in the _Download folder_ and this app can prepare it for cleaning by redistributing it into the folders related to the extension name.\n",
    "\n",
    "**Simple case** - variable **folders** may contain a list of extensions that should be redistributed\n",
    "\n",
    "folders = ['pdf', 'jpeg']\n",
    "\n",
    "**Advanced case** - folder variable may contain a dictionary where the key is the folder name and the value is a list of extensions to consider\n",
    "\n",
    "folders = {\"pdf\": [\"pdf\"], \"img\": [\"jpeg\", \"jpg\", \"png\", \"gif\"]}\n",
    "\n",
    "Let's continue with **Advanced** case"
   ]
  },
  {
   "cell_type": "code",
   "execution_count": 1,
   "id": "a6ff87e7",
   "metadata": {},
   "outputs": [],
   "source": [
    "import os\n",
    "from pathlib import Path"
   ]
  },
  {
   "cell_type": "markdown",
   "id": "81ff22bd",
   "metadata": {},
   "source": [
    "Define target folder"
   ]
  },
  {
   "cell_type": "code",
   "execution_count": 2,
   "id": "de3fe810",
   "metadata": {},
   "outputs": [],
   "source": [
    "target_folder = r\"C:\\Users\\Admin\\Downloads\""
   ]
  },
  {
   "cell_type": "markdown",
   "id": "6af78b56",
   "metadata": {},
   "source": [
    "Prepare Print utilities for better visibility"
   ]
  },
  {
   "cell_type": "code",
   "execution_count": 4,
   "id": "841675d7",
   "metadata": {},
   "outputs": [],
   "source": [
    "# Print Dict key & value\n",
    "def print_dict(dict_values: dict):\n",
    "    # sort key\n",
    "    keys = list(dict_values.keys())\n",
    "    keys.sort()\n",
    "    for key in keys:\n",
    "        print(f'{key}: {dict_values.get(key)}')\n",
    "\n",
    "# Print list\n",
    "def print_list(list_values: list):\n",
    "    for value in list_values:\n",
    "        print(f'{value}')"
   ]
  },
  {
   "cell_type": "markdown",
   "id": "0663c621",
   "metadata": {},
   "source": [
    "Let's see how many different file extensions we have in target folder "
   ]
  },
  {
   "cell_type": "code",
   "execution_count": 5,
   "id": "d0677636",
   "metadata": {
    "scrolled": true
   },
   "outputs": [],
   "source": [
    "folder = '[folders]'\n",
    "values = dict()\n",
    "values[folder] = 0\n",
    "\n",
    "for item in Path(target_folder).iterdir():\n",
    "    # folder\n",
    "    if item.is_dir():\n",
    "        values[folder] += 1\n",
    "        continue\n",
    "    \n",
    "    # file\n",
    "    if item.is_file():\n",
    "        ext = item.suffix[1:]\n",
    "        if values.get(ext) is None:\n",
    "            values[ext] = 1\n",
    "        else:\n",
    "            values[ext] += 1"
   ]
  },
  {
   "cell_type": "code",
   "execution_count": null,
   "id": "6f72a4b1",
   "metadata": {},
   "outputs": [],
   "source": [
    "print_dict(values)"
   ]
  },
  {
   "cell_type": "markdown",
   "id": "4fc862d8",
   "metadata": {},
   "source": [
    "Let's define what files (with sufficses) we can re-organize into a new folders. Also let's define exception list if required (files that should be ignored)"
   ]
  },
  {
   "cell_type": "code",
   "execution_count": 7,
   "id": "796db50a",
   "metadata": {},
   "outputs": [],
   "source": [
    "# define destination folders with extensions\n",
    "destination_folders = {\n",
    "    '_books': [\"pdf\", \"epub\"],\n",
    "    '_zip': [\"zip\"],\n",
    "    '_img': [\"jpg\", \"jpeg\", \"png\", \"gif\", \"img\"]\n",
    "}\n",
    "\n",
    "# define names that should be excluded from the list or keep it empty\n",
    "name_exception = ['vik']"
   ]
  },
  {
   "cell_type": "markdown",
   "id": "b90b6217",
   "metadata": {},
   "source": [
    "Utilities"
   ]
  },
  {
   "cell_type": "code",
   "execution_count": 8,
   "id": "42dbcb10",
   "metadata": {},
   "outputs": [],
   "source": [
    "# Check if name in exclusion list\n",
    "def is_name_in_exception(name: str) -> bool:\n",
    "    for item in name_exception:\n",
    "        if name.lower().find(item) != -1:\n",
    "            return True\n",
    "    return False\n",
    "\n",
    "\n",
    "# Get all extensions\n",
    "def get_all_extensions() -> set:\n",
    "    ext = []\n",
    "    for item_list in destination_folders.values():\n",
    "        ext.extend(item_list)\n",
    "    return set(ext)\n",
    "\n",
    "# Get folder by extension\n",
    "def get_folder_by_extension(sufix: str) -> str | None:\n",
    "    for folder_name, list_ext in destination_folders.items():\n",
    "        if sufix in list_ext:\n",
    "            return folder_name\n",
    "    return None"
   ]
  },
  {
   "cell_type": "markdown",
   "id": "babf2b57",
   "metadata": {},
   "source": [
    "Prepare list of files to move"
   ]
  },
  {
   "cell_type": "code",
   "execution_count": 9,
   "id": "72b950eb",
   "metadata": {},
   "outputs": [],
   "source": [
    "files = dict()\n",
    "file_exceptions = []\n",
    "\n",
    "all_extentions = get_all_extensions()\n",
    "\n",
    "for item in Path(target_folder).iterdir():\n",
    "    if item.is_dir():\n",
    "        continue\n",
    "\n",
    "    ext = item.suffix[1:]\n",
    "    if item.is_file() and ext in all_extentions:\n",
    "        if is_name_in_exception(item.name):\n",
    "            file_exceptions.append(item.name)\n",
    "            continue\n",
    "\n",
    "        folder_name = get_folder_by_extension(ext)\n",
    "        if folder_name is None:\n",
    "            continue\n",
    "        if files.get(folder_name) is None:\n",
    "            files[folder_name] = []\n",
    "        file_list: list = files[folder_name]\n",
    "        file_list.append(item)\n"
   ]
  },
  {
   "cell_type": "code",
   "execution_count": null,
   "id": "4575dd54",
   "metadata": {},
   "outputs": [],
   "source": [
    "\n",
    "print('-- Files to Move --')\n",
    "print_list(files['_img'])\n",
    "print('-- Excluded Files --')\n",
    "print_list(file_exceptions)\n"
   ]
  },
  {
   "cell_type": "markdown",
   "id": "5419a0b9",
   "metadata": {},
   "source": [
    "Move the files into destination folders"
   ]
  },
  {
   "cell_type": "code",
   "execution_count": 11,
   "id": "88aa2f55",
   "metadata": {},
   "outputs": [
    {
     "name": "stdout",
     "output_type": "stream",
     "text": [
      "Into folder \"_img\" moved 0 file(s)\n",
      "Into folder \"_zip\" moved 0 file(s)\n",
      "Into folder \"_books\" moved 0 file(s)\n"
     ]
    }
   ],
   "source": [
    "for folder_name, file_list in files.items():\n",
    "    path_name = target_folder + '\\\\' + folder_name\n",
    "    if not os.path.exists(path_name):\n",
    "        print(f'Create -> {path_name}')\n",
    "        os.makedirs(path_name)\n",
    "\n",
    "    moved = 0\n",
    "    for file in file_list:\n",
    "        file: Path = file\n",
    "        destination = Path(path_name + '\\\\' + file.name)\n",
    "        file.rename(destination)\n",
    "        moved += 1\n",
    "\n",
    "    print(f'Into folder \"{folder_name}\" moved {moved} file(s)')"
   ]
  }
 ],
 "metadata": {
  "kernelspec": {
   "display_name": "Python 3 (ipykernel)",
   "language": "python",
   "name": "python3"
  },
  "language_info": {
   "codemirror_mode": {
    "name": "ipython",
    "version": 3
   },
   "file_extension": ".py",
   "mimetype": "text/x-python",
   "name": "python",
   "nbconvert_exporter": "python",
   "pygments_lexer": "ipython3",
   "version": "3.10.11"
  }
 },
 "nbformat": 4,
 "nbformat_minor": 5
}
